{
 "cells": [
  {
   "cell_type": "code",
   "execution_count": 54,
   "metadata": {},
   "outputs": [],
   "source": [
    "import pandas as pd\n",
    "import numpy as np\n",
    "import matplotlib.pyplot as plt\n",
    "import pickle\n",
    "import glob\n",
    "import torch\n",
    "import seaborn as sns\n",
    "from tqdm import tqdm\n",
    "\n",
    "from sklearn.metrics import roc_auc_score, roc_curve, f1_score\n",
    "from sklearn.preprocessing import label_binarize\n",
    "\n",
    "from IPython.core.interactiveshell import InteractiveShell\n",
    "InteractiveShell.ast_node_interactivity = \"all\""
   ]
  },
  {
   "cell_type": "code",
   "execution_count": 59,
   "metadata": {},
   "outputs": [
    {
     "data": {
      "text/html": [
       "<div>\n",
       "<style scoped>\n",
       "    .dataframe tbody tr th:only-of-type {\n",
       "        vertical-align: middle;\n",
       "    }\n",
       "\n",
       "    .dataframe tbody tr th {\n",
       "        vertical-align: top;\n",
       "    }\n",
       "\n",
       "    .dataframe thead th {\n",
       "        text-align: right;\n",
       "    }\n",
       "</style>\n",
       "<table border=\"1\" class=\"dataframe\">\n",
       "  <thead>\n",
       "    <tr style=\"text-align: right;\">\n",
       "      <th></th>\n",
       "      <th>drugName</th>\n",
       "      <th>condition</th>\n",
       "      <th>review</th>\n",
       "      <th>rating</th>\n",
       "      <th>date</th>\n",
       "      <th>usefulCount</th>\n",
       "      <th>is_test</th>\n",
       "      <th>cat</th>\n",
       "    </tr>\n",
       "  </thead>\n",
       "  <tbody>\n",
       "    <tr>\n",
       "      <th>107943</th>\n",
       "      <td>Mirtazapine</td>\n",
       "      <td>Depression</td>\n",
       "      <td>\"I&amp;#039;ve tried a few antidepressants over th...</td>\n",
       "      <td>10.0</td>\n",
       "      <td>February 28, 2012</td>\n",
       "      <td>22</td>\n",
       "      <td>True</td>\n",
       "      <td>10</td>\n",
       "    </tr>\n",
       "    <tr>\n",
       "      <th>107944</th>\n",
       "      <td>Bactrim</td>\n",
       "      <td>Urinary Tract Infection</td>\n",
       "      <td>\"Quick reduction of symptoms\"</td>\n",
       "      <td>9.0</td>\n",
       "      <td>September 29, 2017</td>\n",
       "      <td>3</td>\n",
       "      <td>True</td>\n",
       "      <td>26</td>\n",
       "    </tr>\n",
       "    <tr>\n",
       "      <th>107945</th>\n",
       "      <td>Contrave</td>\n",
       "      <td>Weight Loss</td>\n",
       "      <td>\"Contrave combines drugs that were used for al...</td>\n",
       "      <td>9.0</td>\n",
       "      <td>March 5, 2017</td>\n",
       "      <td>35</td>\n",
       "      <td>True</td>\n",
       "      <td>28</td>\n",
       "    </tr>\n",
       "    <tr>\n",
       "      <th>107946</th>\n",
       "      <td>Cyclafem 1 / 35</td>\n",
       "      <td>Birth Control</td>\n",
       "      <td>\"I have been on this birth control for one cyc...</td>\n",
       "      <td>9.0</td>\n",
       "      <td>October 22, 2015</td>\n",
       "      <td>4</td>\n",
       "      <td>True</td>\n",
       "      <td>6</td>\n",
       "    </tr>\n",
       "    <tr>\n",
       "      <th>107947</th>\n",
       "      <td>Copper</td>\n",
       "      <td>Birth Control</td>\n",
       "      <td>\"I&amp;#039;ve had the copper coil for about 3 mon...</td>\n",
       "      <td>6.0</td>\n",
       "      <td>June 6, 2016</td>\n",
       "      <td>1</td>\n",
       "      <td>True</td>\n",
       "      <td>6</td>\n",
       "    </tr>\n",
       "  </tbody>\n",
       "</table>\n",
       "</div>"
      ],
      "text/plain": [
       "               drugName                condition  \\\n",
       "107943      Mirtazapine               Depression   \n",
       "107944          Bactrim  Urinary Tract Infection   \n",
       "107945         Contrave              Weight Loss   \n",
       "107946  Cyclafem 1 / 35            Birth Control   \n",
       "107947           Copper            Birth Control   \n",
       "\n",
       "                                                   review  rating  \\\n",
       "107943  \"I&#039;ve tried a few antidepressants over th...    10.0   \n",
       "107944                      \"Quick reduction of symptoms\"     9.0   \n",
       "107945  \"Contrave combines drugs that were used for al...     9.0   \n",
       "107946  \"I have been on this birth control for one cyc...     9.0   \n",
       "107947  \"I&#039;ve had the copper coil for about 3 mon...     6.0   \n",
       "\n",
       "                      date  usefulCount  is_test  cat  \n",
       "107943   February 28, 2012           22     True   10  \n",
       "107944  September 29, 2017            3     True   26  \n",
       "107945       March 5, 2017           35     True   28  \n",
       "107946    October 22, 2015            4     True    6  \n",
       "107947        June 6, 2016            1     True    6  "
      ]
     },
     "execution_count": 59,
     "metadata": {},
     "output_type": "execute_result"
    },
    {
     "data": {
      "text/plain": [
       "True"
      ]
     },
     "execution_count": 59,
     "metadata": {},
     "output_type": "execute_result"
    },
    {
     "data": {
      "text/plain": [
       "6     9648\n",
       "10    3095\n",
       "23    2100\n",
       "3     1908\n",
       "2     1847\n",
       "5     1380\n",
       "28    1248\n",
       "15    1231\n",
       "20    1189\n",
       "0     1126\n",
       "12     827\n",
       "27     811\n",
       "11     808\n",
       "14     783\n",
       "25     660\n",
       "1      648\n",
       "7      639\n",
       "17     583\n",
       "29     579\n",
       "4      573\n",
       "9      525\n",
       "16     524\n",
       "8      485\n",
       "24     469\n",
       "18     454\n",
       "26     431\n",
       "21     398\n",
       "22     387\n",
       "19     387\n",
       "13     381\n",
       "Name: cat, dtype: int64"
      ]
     },
     "execution_count": 59,
     "metadata": {},
     "output_type": "execute_result"
    }
   ],
   "source": [
    "df_drug = pd.read_csv('./data/entity_datasets/drug.csv')\n",
    "df_drug_tr = df_drug[df_drug['is_test'] == False]\n",
    "df_drug_te = df_drug[df_drug['is_test'] == True]\n",
    "mapping_dict = dict(enumerate(df_drug_tr['condition'].astype('category').cat.categories))\n",
    "mapping_dict_ = dict(enumerate(df_drug_te['condition'].astype('category').cat.categories))\n",
    "df_drug_te.head()\n",
    "mapping_dict == mapping_dict_\n",
    "\n",
    "target = df_drug['cat'].values\n",
    "is_test = df_drug.is_test.values\n",
    "df_drug_te['cat'].value_counts()"
   ]
  },
  {
   "cell_type": "code",
   "execution_count": 30,
   "metadata": {},
   "outputs": [],
   "source": [
    "filename = list(glob.glob('./results/tuned/Llama-2-70b-hf/drug/condition/probes/*.sav'))[0]\n",
    "layer_num = int(filename.split('/')[-1].split('_')[-1].split('.')[0])\n",
    "act_path = f\"./activation_datasets/Llama-2-70b-hf/drug/drug.last.condition.{layer_num}.pt\"\n",
    "acts = torch.load(act_path).dequantize()\n",
    "test_activations = acts[is_test]\n",
    "test_target = target[is_test]\n",
    "\n",
    "model = pickle.load(open(filename, 'rb'))\n",
    "test_pred = model.predict(test_activations)\n",
    "test_prob = model.predict_proba(test_activations)"
   ]
  },
  {
   "cell_type": "code",
   "execution_count": 56,
   "metadata": {},
   "outputs": [
    {
     "data": {
      "text/plain": [
       "array([10, 26, 28,  6,  6, 18,  6, 27, 28, 15])"
      ]
     },
     "execution_count": 56,
     "metadata": {},
     "output_type": "execute_result"
    },
    {
     "data": {
      "text/plain": [
       "0.7471536635869889"
      ]
     },
     "execution_count": 56,
     "metadata": {},
     "output_type": "execute_result"
    },
    {
     "name": "stderr",
     "output_type": "stream",
     "text": [
      "100%|██████████| 30/30 [00:00<00:00, 108.46it/s]\n"
     ]
    }
   ],
   "source": [
    "test_target[:10]\n",
    "test_roc_auc = roc_auc_score(test_target, test_prob, multi_class='ovr', average=None)\n",
    "predicted_labels = np.argmax(test_prob, axis=1)\n",
    "\n",
    "# Compute F1 score for each class\n",
    "f1_scores = f1_score(test_target, predicted_labels, average=None)\n",
    "f1_scores.mean()\n",
    "\n",
    "# Binarize the test_target to one-hot encoded form\n",
    "test_target_bin = label_binarize(test_target, classes=np.arange(30))\n",
    "\n",
    "fpr = dict()\n",
    "tpr = dict()\n",
    "roc_auc = dict()\n",
    "n_classes = 30\n",
    "\n",
    "for i in tqdm(range(n_classes)):\n",
    "    fpr[i], tpr[i], _ = roc_curve(test_target_bin[:, i], test_prob[:, i])\n",
    "    roc_auc[i] = roc_auc_score(test_target_bin[:, i], test_prob[:, i])"
   ]
  },
  {
   "cell_type": "code",
   "execution_count": 53,
   "metadata": {},
   "outputs": [
    {
     "data": {
      "text/plain": [
       "0.9690372258656917"
      ]
     },
     "execution_count": 53,
     "metadata": {},
     "output_type": "execute_result"
    }
   ],
   "source": [
    "test_roc_auc[10]"
   ]
  }
 ],
 "metadata": {
  "kernelspec": {
   "display_name": "llm",
   "language": "python",
   "name": "python3"
  },
  "language_info": {
   "codemirror_mode": {
    "name": "ipython",
    "version": 3
   },
   "file_extension": ".py",
   "mimetype": "text/x-python",
   "name": "python",
   "nbconvert_exporter": "python",
   "pygments_lexer": "ipython3",
   "version": "3.9.17"
  }
 },
 "nbformat": 4,
 "nbformat_minor": 2
}
