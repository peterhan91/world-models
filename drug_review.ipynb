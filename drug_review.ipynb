{
 "cells": [
  {
   "cell_type": "code",
   "execution_count": 1,
   "metadata": {},
   "outputs": [],
   "source": [
    "from datasets import load_dataset\n",
    "import pandas as pd\n",
    "import pickle\n",
    "from IPython.core.interactiveshell import InteractiveShell\n",
    "InteractiveShell.ast_node_interactivity = \"all\"\n",
    "from rdkit import Chem\n",
    "\n",
    "train = load_dataset('lewtun/drug-reviews', split='train')\n",
    "test = load_dataset('lewtun/drug-reviews', split='test')\n",
    "df_train = pd.DataFrame(train)\n",
    "df_test = pd.DataFrame(test)"
   ]
  },
  {
   "cell_type": "code",
   "execution_count": 6,
   "metadata": {},
   "outputs": [
    {
     "data": {
      "text/html": [
       "<div>\n",
       "<style scoped>\n",
       "    .dataframe tbody tr th:only-of-type {\n",
       "        vertical-align: middle;\n",
       "    }\n",
       "\n",
       "    .dataframe tbody tr th {\n",
       "        vertical-align: top;\n",
       "    }\n",
       "\n",
       "    .dataframe thead th {\n",
       "        text-align: right;\n",
       "    }\n",
       "</style>\n",
       "<table border=\"1\" class=\"dataframe\">\n",
       "  <thead>\n",
       "    <tr style=\"text-align: right;\">\n",
       "      <th></th>\n",
       "      <th>CID</th>\n",
       "      <th>Name</th>\n",
       "      <th>SMILES</th>\n",
       "      <th>InChI</th>\n",
       "      <th>Name type</th>\n",
       "    </tr>\n",
       "  </thead>\n",
       "  <tbody>\n",
       "    <tr>\n",
       "      <th>0</th>\n",
       "      <td>1107</td>\n",
       "      <td>2,3,4,5,6,7,8,9,10,11,12,13,14,15,16,17-hexade...</td>\n",
       "      <td>OC1CCC2C(CCC3C4CCCC4CCC23)C1</td>\n",
       "      <td>InChI=1S/C17H28O/c18-13-6-9-15-12(10-13)5-8-16...</td>\n",
       "      <td>IUPAC</td>\n",
       "    </tr>\n",
       "    <tr>\n",
       "      <th>1</th>\n",
       "      <td>1107</td>\n",
       "      <td>SureCN4544647</td>\n",
       "      <td>OC1CCC2C(CCC3C4CCCC4CCC23)C1</td>\n",
       "      <td>InChI=1S/C17H28O/c18-13-6-9-15-12(10-13)5-8-16...</td>\n",
       "      <td>synonym</td>\n",
       "    </tr>\n",
       "    <tr>\n",
       "      <th>2</th>\n",
       "      <td>2530</td>\n",
       "      <td>ACM3147146|1</td>\n",
       "      <td>Cc1ccc(O)c(N=Nc2c(O)cc(S(=O)(=O)O)c3ccccc23)c1</td>\n",
       "      <td>InChI=1S/C17H14N2O5S/c1-10-6-7-14(20)13(8-10)1...</td>\n",
       "      <td>synonym</td>\n",
       "    </tr>\n",
       "    <tr>\n",
       "      <th>3</th>\n",
       "      <td>2530</td>\n",
       "      <td>(4Z)-4-[(2-hydroxy-5-methylphenyl)hydrazinylid...</td>\n",
       "      <td>Cc1ccc(O)c(N=Nc2c(O)cc(S(=O)(=O)O)c3ccccc23)c1</td>\n",
       "      <td>InChI=1S/C17H14N2O5S/c1-10-6-7-14(20)13(8-10)1...</td>\n",
       "      <td>synonym</td>\n",
       "    </tr>\n",
       "    <tr>\n",
       "      <th>4</th>\n",
       "      <td>4443</td>\n",
       "      <td>N-[[TRANS-4-(1-METHYLETHYL)CYCLOHEXYL]CARBONYL...</td>\n",
       "      <td>CC(C)C1CCC(C(=O)NC(Cc2ccccc2)C(=O)O)CC1</td>\n",
       "      <td>InChI=1S/C19H27NO3/c1-13(2)15-8-10-16(11-9-15)...</td>\n",
       "      <td>synonym</td>\n",
       "    </tr>\n",
       "  </tbody>\n",
       "</table>\n",
       "</div>"
      ],
      "text/plain": [
       "    CID                                               Name  \\\n",
       "0  1107  2,3,4,5,6,7,8,9,10,11,12,13,14,15,16,17-hexade...   \n",
       "1  1107                                      SureCN4544647   \n",
       "2  2530                                       ACM3147146|1   \n",
       "3  2530  (4Z)-4-[(2-hydroxy-5-methylphenyl)hydrazinylid...   \n",
       "4  4443  N-[[TRANS-4-(1-METHYLETHYL)CYCLOHEXYL]CARBONYL...   \n",
       "\n",
       "                                           SMILES  \\\n",
       "0                    OC1CCC2C(CCC3C4CCCC4CCC23)C1   \n",
       "1                    OC1CCC2C(CCC3C4CCCC4CCC23)C1   \n",
       "2  Cc1ccc(O)c(N=Nc2c(O)cc(S(=O)(=O)O)c3ccccc23)c1   \n",
       "3  Cc1ccc(O)c(N=Nc2c(O)cc(S(=O)(=O)O)c3ccccc23)c1   \n",
       "4         CC(C)C1CCC(C(=O)NC(Cc2ccccc2)C(=O)O)CC1   \n",
       "\n",
       "                                               InChI Name type  \n",
       "0  InChI=1S/C17H28O/c18-13-6-9-15-12(10-13)5-8-16...     IUPAC  \n",
       "1  InChI=1S/C17H28O/c18-13-6-9-15-12(10-13)5-8-16...   synonym  \n",
       "2  InChI=1S/C17H14N2O5S/c1-10-6-7-14(20)13(8-10)1...   synonym  \n",
       "3  InChI=1S/C17H14N2O5S/c1-10-6-7-14(20)13(8-10)1...   synonym  \n",
       "4  InChI=1S/C19H27NO3/c1-13(2)15-8-10-16(11-9-15)...   synonym  "
      ]
     },
     "execution_count": 6,
     "metadata": {},
     "output_type": "execute_result"
    },
    {
     "data": {
      "text/html": [
       "<div>\n",
       "<style scoped>\n",
       "    .dataframe tbody tr th:only-of-type {\n",
       "        vertical-align: middle;\n",
       "    }\n",
       "\n",
       "    .dataframe tbody tr th {\n",
       "        vertical-align: top;\n",
       "    }\n",
       "\n",
       "    .dataframe thead th {\n",
       "        text-align: right;\n",
       "    }\n",
       "</style>\n",
       "<table border=\"1\" class=\"dataframe\">\n",
       "  <thead>\n",
       "    <tr style=\"text-align: right;\">\n",
       "      <th></th>\n",
       "      <th>CID</th>\n",
       "      <th>Name</th>\n",
       "      <th>SMILES</th>\n",
       "      <th>InChI</th>\n",
       "    </tr>\n",
       "  </thead>\n",
       "  <tbody>\n",
       "    <tr>\n",
       "      <th>0</th>\n",
       "      <td>101825401</td>\n",
       "      <td>2-[Bis(3,5-dibromo-4-hydroxy-2-methylphenyl)hy...</td>\n",
       "      <td>Cc1c(C(O)(c2ccccc2S(=O)(=O)O)c2cc(Br)c(O)c(Br)...</td>\n",
       "      <td>InChI=1S/C21H16Br4O6S.Na/c1-9-12(7-14(22)19(26...</td>\n",
       "    </tr>\n",
       "    <tr>\n",
       "      <th>1</th>\n",
       "      <td>101825403</td>\n",
       "      <td>1,1',1''-(1,3,5,5-Tetramethyl-1-pentene-1,3,5-...</td>\n",
       "      <td>C/C(=C/C(C)(CC(C)(C)c1ccccc1)c1ccccc1)c1ccccc1</td>\n",
       "      <td>InChI=1S/C27H30/c1-22(23-14-8-5-9-15-23)20-27(...</td>\n",
       "    </tr>\n",
       "    <tr>\n",
       "      <th>2</th>\n",
       "      <td>101825404</td>\n",
       "      <td>3-Potassiopentane-2,4-dione</td>\n",
       "      <td>CC(=O)C=C(C)[O].[K]</td>\n",
       "      <td>InChI=1S/C5H7O2.K/c1-4(6)3-5(2)7;/h3H,1-2H3;</td>\n",
       "    </tr>\n",
       "    <tr>\n",
       "      <th>3</th>\n",
       "      <td>101825405</td>\n",
       "      <td>Benzenesulfonic acid ammonium salt</td>\n",
       "      <td>[NH3+]O[S+]([O])(=O)c1ccccc1</td>\n",
       "      <td>InChI=1S/C6H8NO3S/c7-10-11(8,9)6-4-2-1-3-5-6/h...</td>\n",
       "    </tr>\n",
       "    <tr>\n",
       "      <th>4</th>\n",
       "      <td>101825408</td>\n",
       "      <td>3-Methyl-4-phenyl-3-butenoic acid sodium salt</td>\n",
       "      <td>C/C(=C\\c1ccccc1)CC(=O)[O-].[Na+]</td>\n",
       "      <td>InChI=1S/C11H12O2.Na/c1-9(8-11(12)13)7-10-5-3-...</td>\n",
       "    </tr>\n",
       "  </tbody>\n",
       "</table>\n",
       "</div>"
      ],
      "text/plain": [
       "         CID                                               Name  \\\n",
       "0  101825401  2-[Bis(3,5-dibromo-4-hydroxy-2-methylphenyl)hy...   \n",
       "1  101825403  1,1',1''-(1,3,5,5-Tetramethyl-1-pentene-1,3,5-...   \n",
       "2  101825404                        3-Potassiopentane-2,4-dione   \n",
       "3  101825405                 Benzenesulfonic acid ammonium salt   \n",
       "4  101825408      3-Methyl-4-phenyl-3-butenoic acid sodium salt   \n",
       "\n",
       "                                              SMILES  \\\n",
       "0  Cc1c(C(O)(c2ccccc2S(=O)(=O)O)c2cc(Br)c(O)c(Br)...   \n",
       "1     C/C(=C/C(C)(CC(C)(C)c1ccccc1)c1ccccc1)c1ccccc1   \n",
       "2                                CC(=O)C=C(C)[O].[K]   \n",
       "3                       [NH3+]O[S+]([O])(=O)c1ccccc1   \n",
       "4                   C/C(=C\\c1ccccc1)CC(=O)[O-].[Na+]   \n",
       "\n",
       "                                               InChI  \n",
       "0  InChI=1S/C21H16Br4O6S.Na/c1-9-12(7-14(22)19(26...  \n",
       "1  InChI=1S/C27H30/c1-22(23-14-8-5-9-15-23)20-27(...  \n",
       "2       InChI=1S/C5H7O2.K/c1-4(6)3-5(2)7;/h3H,1-2H3;  \n",
       "3  InChI=1S/C6H8NO3S/c7-10-11(8,9)6-4-2-1-3-5-6/h...  \n",
       "4  InChI=1S/C11H12O2.Na/c1-9(8-11(12)13)7-10-5-3-...  "
      ]
     },
     "execution_count": 6,
     "metadata": {},
     "output_type": "execute_result"
    },
    {
     "data": {
      "text/plain": [
       "'N-[[TRANS-4-(1-METHYLETHYL)CYCLOHEXYL]CARBONYL]-D-'"
      ]
     },
     "execution_count": 6,
     "metadata": {},
     "output_type": "execute_result"
    },
    {
     "data": {
      "text/plain": [
       "0"
      ]
     },
     "execution_count": 6,
     "metadata": {},
     "output_type": "execute_result"
    }
   ],
   "source": [
    "df_pcc = pd.read_csv('../../Datasets/drugs/pccs-pubchem/test.tsv', sep='\\t')\n",
    "df_pcc_tr = pd.read_csv('../../Datasets/drugs/pccs-pubchem/train.tsv', sep='\\t')\n",
    "df_pcc.head()\n",
    "df_pcc_tr.head()\n",
    "df_pcc['Name'].tolist()[4]"
   ]
  },
  {
   "cell_type": "code",
   "execution_count": 17,
   "metadata": {},
   "outputs": [
    {
     "data": {
      "text/plain": [
       "'COC(=O)C1=CCCN(N=O)C1'"
      ]
     },
     "execution_count": 17,
     "metadata": {},
     "output_type": "execute_result"
    },
    {
     "data": {
      "text/plain": [
       "7"
      ]
     },
     "execution_count": 17,
     "metadata": {},
     "output_type": "execute_result"
    }
   ],
   "source": [
    "def count_carbon_atoms(smiles, atom_name=\"C\"):\n",
    "    mol = Chem.MolFromSmiles(smiles)\n",
    "    if mol is None:  # Invalid SMILES string\n",
    "        return None\n",
    "    carbon_atoms = [atom for atom in mol.GetAtoms() if atom.GetSymbol() == atom_name]\n",
    "    return len(carbon_atoms)\n",
    "\n",
    "n = 102\n",
    "df_pcc['SMILES'].tolist()[n]\n",
    "count_carbon_atoms(df_pcc['SMILES'].tolist()[n])"
   ]
  },
  {
   "cell_type": "code",
   "execution_count": 15,
   "metadata": {},
   "outputs": [
    {
     "data": {
      "text/plain": [
       "195633"
      ]
     },
     "execution_count": 15,
     "metadata": {},
     "output_type": "execute_result"
    },
    {
     "data": {
      "text/plain": [
       "(5000000, 195660)"
      ]
     },
     "execution_count": 15,
     "metadata": {},
     "output_type": "execute_result"
    }
   ],
   "source": [
    "df = df_pcc[~df_pcc['Name'].isin(df_pcc_tr['Name'].tolist())]\n",
    "len(df)\n",
    "len(df_pcc_tr), len(df_pcc)"
   ]
  },
  {
   "cell_type": "code",
   "execution_count": 9,
   "metadata": {},
   "outputs": [],
   "source": [
    "df_train = df_train.drop(['Unnamed: 0'], axis=1)\n",
    "df_test = df_test.drop(['Unnamed: 0'], axis=1)\n",
    "df_train['is_test'] = False\n",
    "df_test['is_test'] = True"
   ]
  },
  {
   "cell_type": "code",
   "execution_count": 15,
   "metadata": {},
   "outputs": [
    {
     "name": "stdout",
     "output_type": "stream",
     "text": [
      "True\n"
     ]
    },
    {
     "name": "stderr",
     "output_type": "stream",
     "text": [
      "/Users/tianyuhan/.local/lib/python3.7/site-packages/ipykernel_launcher.py:4: SettingWithCopyWarning: \n",
      "A value is trying to be set on a copy of a slice from a DataFrame.\n",
      "Try using .loc[row_indexer,col_indexer] = value instead\n",
      "\n",
      "See the caveats in the documentation: https://pandas.pydata.org/pandas-docs/stable/user_guide/indexing.html#returning-a-view-versus-a-copy\n",
      "  after removing the cwd from sys.path.\n",
      "/Users/tianyuhan/.local/lib/python3.7/site-packages/ipykernel_launcher.py:5: SettingWithCopyWarning: \n",
      "A value is trying to be set on a copy of a slice from a DataFrame.\n",
      "Try using .loc[row_indexer,col_indexer] = value instead\n",
      "\n",
      "See the caveats in the documentation: https://pandas.pydata.org/pandas-docs/stable/user_guide/indexing.html#returning-a-view-versus-a-copy\n",
      "  \"\"\"\n"
     ]
    },
    {
     "data": {
      "text/plain": [
       "(107943, 36124)"
      ]
     },
     "execution_count": 15,
     "metadata": {},
     "output_type": "execute_result"
    },
    {
     "data": {
      "text/html": [
       "<div>\n",
       "<style scoped>\n",
       "    .dataframe tbody tr th:only-of-type {\n",
       "        vertical-align: middle;\n",
       "    }\n",
       "\n",
       "    .dataframe tbody tr th {\n",
       "        vertical-align: top;\n",
       "    }\n",
       "\n",
       "    .dataframe thead th {\n",
       "        text-align: right;\n",
       "    }\n",
       "</style>\n",
       "<table border=\"1\" class=\"dataframe\">\n",
       "  <thead>\n",
       "    <tr style=\"text-align: right;\">\n",
       "      <th></th>\n",
       "      <th>drugName</th>\n",
       "      <th>condition</th>\n",
       "      <th>review</th>\n",
       "      <th>rating</th>\n",
       "      <th>date</th>\n",
       "      <th>usefulCount</th>\n",
       "      <th>is_test</th>\n",
       "      <th>cat</th>\n",
       "    </tr>\n",
       "  </thead>\n",
       "  <tbody>\n",
       "    <tr>\n",
       "      <th>1</th>\n",
       "      <td>Guanfacine</td>\n",
       "      <td>ADHD</td>\n",
       "      <td>\"My son is halfway through his fourth week of ...</td>\n",
       "      <td>8.0</td>\n",
       "      <td>April 27, 2010</td>\n",
       "      <td>192</td>\n",
       "      <td>False</td>\n",
       "      <td>0</td>\n",
       "    </tr>\n",
       "    <tr>\n",
       "      <th>2</th>\n",
       "      <td>Lybrel</td>\n",
       "      <td>Birth Control</td>\n",
       "      <td>\"I used to take another oral contraceptive, wh...</td>\n",
       "      <td>5.0</td>\n",
       "      <td>December 14, 2009</td>\n",
       "      <td>17</td>\n",
       "      <td>False</td>\n",
       "      <td>6</td>\n",
       "    </tr>\n",
       "    <tr>\n",
       "      <th>3</th>\n",
       "      <td>Ortho Evra</td>\n",
       "      <td>Birth Control</td>\n",
       "      <td>\"This is my first time using any form of birth...</td>\n",
       "      <td>8.0</td>\n",
       "      <td>November 3, 2015</td>\n",
       "      <td>10</td>\n",
       "      <td>False</td>\n",
       "      <td>6</td>\n",
       "    </tr>\n",
       "    <tr>\n",
       "      <th>4</th>\n",
       "      <td>Buprenorphine / naloxone</td>\n",
       "      <td>Opiate Dependence</td>\n",
       "      <td>\"Suboxone has completely turned my life around...</td>\n",
       "      <td>9.0</td>\n",
       "      <td>November 27, 2016</td>\n",
       "      <td>37</td>\n",
       "      <td>False</td>\n",
       "      <td>21</td>\n",
       "    </tr>\n",
       "    <tr>\n",
       "      <th>6</th>\n",
       "      <td>Levonorgestrel</td>\n",
       "      <td>Emergency Contraception</td>\n",
       "      <td>\"He pulled out, but he cummed a bit in me. I t...</td>\n",
       "      <td>1.0</td>\n",
       "      <td>March 7, 2017</td>\n",
       "      <td>5</td>\n",
       "      <td>False</td>\n",
       "      <td>12</td>\n",
       "    </tr>\n",
       "  </tbody>\n",
       "</table>\n",
       "</div>"
      ],
      "text/plain": [
       "                   drugName                condition  \\\n",
       "1                Guanfacine                     ADHD   \n",
       "2                    Lybrel            Birth Control   \n",
       "3                Ortho Evra            Birth Control   \n",
       "4  Buprenorphine / naloxone        Opiate Dependence   \n",
       "6            Levonorgestrel  Emergency Contraception   \n",
       "\n",
       "                                              review  rating  \\\n",
       "1  \"My son is halfway through his fourth week of ...     8.0   \n",
       "2  \"I used to take another oral contraceptive, wh...     5.0   \n",
       "3  \"This is my first time using any form of birth...     8.0   \n",
       "4  \"Suboxone has completely turned my life around...     9.0   \n",
       "6  \"He pulled out, but he cummed a bit in me. I t...     1.0   \n",
       "\n",
       "                date  usefulCount  is_test  cat  \n",
       "1     April 27, 2010          192    False    0  \n",
       "2  December 14, 2009           17    False    6  \n",
       "3   November 3, 2015           10    False    6  \n",
       "4  November 27, 2016           37    False   21  \n",
       "6      March 7, 2017            5    False   12  "
      ]
     },
     "execution_count": 15,
     "metadata": {},
     "output_type": "execute_result"
    }
   ],
   "source": [
    "top_30_classes = df_test['condition'].value_counts().nlargest(30).index.tolist()\n",
    "df_train_filtered = df_train[df_train['condition'].isin(top_30_classes)]\n",
    "df_test_filtered = df_test[df_test['condition'].isin(top_30_classes)]\n",
    "df_train_filtered['cat'] = df_train_filtered['condition'].astype('category').cat.codes\n",
    "df_test_filtered['cat'] = df_test_filtered['condition'].astype('category').cat.codes\n",
    "mapping_dict = dict(enumerate(df_test_filtered['condition'].astype('category').cat.categories))\n",
    "mapping_dict_ = dict(enumerate(df_train_filtered['condition'].astype('category').cat.categories))\n",
    "\n",
    "print(mapping_dict == mapping_dict_)\n",
    "len(df_train_filtered), len(df_test_filtered)\n",
    "df_train_filtered.head()"
   ]
  },
  {
   "cell_type": "code",
   "execution_count": 16,
   "metadata": {},
   "outputs": [
    {
     "data": {
      "text/plain": [
       "144067"
      ]
     },
     "execution_count": 16,
     "metadata": {},
     "output_type": "execute_result"
    }
   ],
   "source": [
    "df = pd.concat([df_train_filtered, df_test_filtered])\n",
    "len(df)"
   ]
  },
  {
   "cell_type": "code",
   "execution_count": 17,
   "metadata": {},
   "outputs": [],
   "source": [
    "df.to_csv('./data/entity_datasets/drug.csv', index=False)"
   ]
  },
  {
   "cell_type": "code",
   "execution_count": 18,
   "metadata": {},
   "outputs": [
    {
     "data": {
      "text/plain": [
       "['Birth Control',\n",
       " 'Depression',\n",
       " 'Pain',\n",
       " 'Anxiety',\n",
       " 'Acne',\n",
       " 'Bipolar Disorde',\n",
       " 'Weight Loss',\n",
       " 'Insomnia',\n",
       " 'Obesity',\n",
       " 'ADHD',\n",
       " 'Emergency Contraception',\n",
       " 'Vaginal Yeast Infection',\n",
       " 'Diabetes, Type 2',\n",
       " 'High Blood Pressure',\n",
       " 'Smoking Cessation',\n",
       " 'Abnormal Uterine Bleeding',\n",
       " 'Bowel Preparation',\n",
       " 'Migraine',\n",
       " 'ibromyalgia',\n",
       " 'Anxiety and Stress',\n",
       " 'Constipation',\n",
       " 'Major Depressive Disorde',\n",
       " 'Chronic Pain',\n",
       " 'Panic Disorde',\n",
       " 'Migraine Prevention',\n",
       " 'Urinary Tract Infection',\n",
       " 'Opiate Dependence',\n",
       " 'Osteoarthritis',\n",
       " 'Muscle Spasm',\n",
       " 'Erectile Dysfunction']"
      ]
     },
     "execution_count": 18,
     "metadata": {},
     "output_type": "execute_result"
    }
   ],
   "source": [
    "top_30_classes"
   ]
  },
  {
   "cell_type": "code",
   "execution_count": 9,
   "metadata": {},
   "outputs": [
    {
     "data": {
      "text/html": [
       "<div>\n",
       "<style scoped>\n",
       "    .dataframe tbody tr th:only-of-type {\n",
       "        vertical-align: middle;\n",
       "    }\n",
       "\n",
       "    .dataframe tbody tr th {\n",
       "        vertical-align: top;\n",
       "    }\n",
       "\n",
       "    .dataframe thead th {\n",
       "        text-align: right;\n",
       "    }\n",
       "</style>\n",
       "<table border=\"1\" class=\"dataframe\">\n",
       "  <thead>\n",
       "    <tr style=\"text-align: right;\">\n",
       "      <th></th>\n",
       "      <th>projection</th>\n",
       "      <th>is_test</th>\n",
       "    </tr>\n",
       "  </thead>\n",
       "  <tbody>\n",
       "    <tr>\n",
       "      <th>0</th>\n",
       "      <td>0</td>\n",
       "      <td>False</td>\n",
       "    </tr>\n",
       "    <tr>\n",
       "      <th>1</th>\n",
       "      <td>6</td>\n",
       "      <td>False</td>\n",
       "    </tr>\n",
       "    <tr>\n",
       "      <th>2</th>\n",
       "      <td>6</td>\n",
       "      <td>False</td>\n",
       "    </tr>\n",
       "    <tr>\n",
       "      <th>3</th>\n",
       "      <td>21</td>\n",
       "      <td>False</td>\n",
       "    </tr>\n",
       "    <tr>\n",
       "      <th>4</th>\n",
       "      <td>6</td>\n",
       "      <td>False</td>\n",
       "    </tr>\n",
       "  </tbody>\n",
       "</table>\n",
       "</div>"
      ],
      "text/plain": [
       "   projection  is_test\n",
       "0           0    False\n",
       "1           6    False\n",
       "2           6    False\n",
       "3          21    False\n",
       "4           6    False"
      ]
     },
     "execution_count": 9,
     "metadata": {},
     "output_type": "execute_result"
    }
   ],
   "source": [
    "path = '/home/than/DeepLearning/world-models/results/tuned/Llama-2-70b-hf/drug/condition/probes/lsq_train.none.none.last.condition.p'\n",
    "probe_results = pickle.load(open(path, 'rb'))\n",
    "df = probe_results['projections']\n",
    "df[70].head()"
   ]
  }
 ],
 "metadata": {
  "kernelspec": {
   "display_name": "torch",
   "language": "python",
   "name": "python3"
  },
  "language_info": {
   "codemirror_mode": {
    "name": "ipython",
    "version": 3
   },
   "file_extension": ".py",
   "mimetype": "text/x-python",
   "name": "python",
   "nbconvert_exporter": "python",
   "pygments_lexer": "ipython3",
   "version": "3.9.17"
  }
 },
 "nbformat": 4,
 "nbformat_minor": 2
}
