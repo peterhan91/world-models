{
 "cells": [
  {
   "cell_type": "code",
   "execution_count": 1,
   "metadata": {},
   "outputs": [
    {
     "data": {
      "application/vnd.jupyter.widget-view+json": {
       "model_id": "4080f6cf7d5346f8aca17489bfdc45e2",
       "version_major": 2,
       "version_minor": 0
      },
      "text/plain": [
       "Downloading data files:   0%|          | 0/2 [00:00<?, ?it/s]"
      ]
     },
     "metadata": {},
     "output_type": "display_data"
    },
    {
     "data": {
      "application/vnd.jupyter.widget-view+json": {
       "model_id": "dfa637b68de147fc9c96df4283a2e6e4",
       "version_major": 2,
       "version_minor": 0
      },
      "text/plain": [
       "Downloading data:   0%|          | 0.00/97.7M [00:00<?, ?B/s]"
      ]
     },
     "metadata": {},
     "output_type": "display_data"
    },
    {
     "data": {
      "application/vnd.jupyter.widget-view+json": {
       "model_id": "3778d0af45c0453da5cd90f0d2b6d118",
       "version_major": 2,
       "version_minor": 0
      },
      "text/plain": [
       "Downloading data:   0%|          | 0.00/32.5M [00:00<?, ?B/s]"
      ]
     },
     "metadata": {},
     "output_type": "display_data"
    },
    {
     "data": {
      "application/vnd.jupyter.widget-view+json": {
       "model_id": "2dcd3e637dbf465abf0801fa0bb67f74",
       "version_major": 2,
       "version_minor": 0
      },
      "text/plain": [
       "Extracting data files:   0%|          | 0/2 [00:00<?, ?it/s]"
      ]
     },
     "metadata": {},
     "output_type": "display_data"
    },
    {
     "data": {
      "application/vnd.jupyter.widget-view+json": {
       "model_id": "c9b772ed83f54db88a4a098a52f3a8a8",
       "version_major": 2,
       "version_minor": 0
      },
      "text/plain": [
       "Generating train split: 0 examples [00:00, ? examples/s]"
      ]
     },
     "metadata": {},
     "output_type": "display_data"
    },
    {
     "data": {
      "application/vnd.jupyter.widget-view+json": {
       "model_id": "44bb1de349e848b18bbd394ad001f5d9",
       "version_major": 2,
       "version_minor": 0
      },
      "text/plain": [
       "Generating test split: 0 examples [00:00, ? examples/s]"
      ]
     },
     "metadata": {},
     "output_type": "display_data"
    }
   ],
   "source": [
    "from datasets import load_dataset\n",
    "import pandas as pd\n",
    "import pickle\n",
    "from IPython.core.interactiveshell import InteractiveShell\n",
    "InteractiveShell.ast_node_interactivity = \"all\"\n",
    "\n",
    "train = load_dataset('lewtun/drug-reviews', split='train')\n",
    "test = load_dataset('lewtun/drug-reviews', split='test')\n",
    "df_train = pd.DataFrame(train)\n",
    "df_test = pd.DataFrame(test)"
   ]
  },
  {
   "cell_type": "code",
   "execution_count": 8,
   "metadata": {},
   "outputs": [
    {
     "data": {
      "text/html": [
       "<div>\n",
       "<style scoped>\n",
       "    .dataframe tbody tr th:only-of-type {\n",
       "        vertical-align: middle;\n",
       "    }\n",
       "\n",
       "    .dataframe tbody tr th {\n",
       "        vertical-align: top;\n",
       "    }\n",
       "\n",
       "    .dataframe thead th {\n",
       "        text-align: right;\n",
       "    }\n",
       "</style>\n",
       "<table border=\"1\" class=\"dataframe\">\n",
       "  <thead>\n",
       "    <tr style=\"text-align: right;\">\n",
       "      <th></th>\n",
       "      <th>name</th>\n",
       "      <th>entity_subtype</th>\n",
       "      <th>country</th>\n",
       "      <th>latitude</th>\n",
       "      <th>longitude</th>\n",
       "      <th>has_thumbnail</th>\n",
       "      <th>page_views</th>\n",
       "      <th>entity_type</th>\n",
       "      <th>total_area</th>\n",
       "      <th>population</th>\n",
       "      <th>is_test</th>\n",
       "    </tr>\n",
       "  </thead>\n",
       "  <tbody>\n",
       "    <tr>\n",
       "      <th>0</th>\n",
       "      <td>Tancredo Neves Pantheon of the Fatherland and ...</td>\n",
       "      <td>Monument</td>\n",
       "      <td>Brazil</td>\n",
       "      <td>-15.80170</td>\n",
       "      <td>-47.86030</td>\n",
       "      <td>1</td>\n",
       "      <td>7521.0</td>\n",
       "      <td>structure</td>\n",
       "      <td>NaN</td>\n",
       "      <td>NaN</td>\n",
       "      <td>False</td>\n",
       "    </tr>\n",
       "    <tr>\n",
       "      <th>1</th>\n",
       "      <td>Sembuwatta Lake</td>\n",
       "      <td>AmusementParkAttraction</td>\n",
       "      <td>Sri_Lanka</td>\n",
       "      <td>7.43694</td>\n",
       "      <td>80.69970</td>\n",
       "      <td>1</td>\n",
       "      <td>16340.0</td>\n",
       "      <td>structure</td>\n",
       "      <td>NaN</td>\n",
       "      <td>NaN</td>\n",
       "      <td>False</td>\n",
       "    </tr>\n",
       "    <tr>\n",
       "      <th>2</th>\n",
       "      <td>Ford Rotunda</td>\n",
       "      <td>AmusementParkAttraction</td>\n",
       "      <td>United_States</td>\n",
       "      <td>42.31210</td>\n",
       "      <td>-83.17670</td>\n",
       "      <td>1</td>\n",
       "      <td>40773.0</td>\n",
       "      <td>structure</td>\n",
       "      <td>NaN</td>\n",
       "      <td>NaN</td>\n",
       "      <td>False</td>\n",
       "    </tr>\n",
       "    <tr>\n",
       "      <th>3</th>\n",
       "      <td>Afsluitdijk</td>\n",
       "      <td>Bridge</td>\n",
       "      <td>Netherlands</td>\n",
       "      <td>53.00000</td>\n",
       "      <td>5.16667</td>\n",
       "      <td>1</td>\n",
       "      <td>227321.0</td>\n",
       "      <td>structure</td>\n",
       "      <td>NaN</td>\n",
       "      <td>NaN</td>\n",
       "      <td>False</td>\n",
       "    </tr>\n",
       "    <tr>\n",
       "      <th>4</th>\n",
       "      <td>Mudeirej Bridge</td>\n",
       "      <td>Bridge</td>\n",
       "      <td>Lebanon</td>\n",
       "      <td>33.80080</td>\n",
       "      <td>35.72710</td>\n",
       "      <td>1</td>\n",
       "      <td>5623.0</td>\n",
       "      <td>structure</td>\n",
       "      <td>NaN</td>\n",
       "      <td>NaN</td>\n",
       "      <td>True</td>\n",
       "    </tr>\n",
       "  </tbody>\n",
       "</table>\n",
       "</div>"
      ],
      "text/plain": [
       "                                                name           entity_subtype  \\\n",
       "0  Tancredo Neves Pantheon of the Fatherland and ...                 Monument   \n",
       "1                                    Sembuwatta Lake  AmusementParkAttraction   \n",
       "2                                       Ford Rotunda  AmusementParkAttraction   \n",
       "3                                        Afsluitdijk                   Bridge   \n",
       "4                                    Mudeirej Bridge                   Bridge   \n",
       "\n",
       "         country  latitude  longitude  has_thumbnail  page_views entity_type  \\\n",
       "0         Brazil -15.80170  -47.86030              1      7521.0   structure   \n",
       "1      Sri_Lanka   7.43694   80.69970              1     16340.0   structure   \n",
       "2  United_States  42.31210  -83.17670              1     40773.0   structure   \n",
       "3    Netherlands  53.00000    5.16667              1    227321.0   structure   \n",
       "4        Lebanon  33.80080   35.72710              1      5623.0   structure   \n",
       "\n",
       "   total_area  population  is_test  \n",
       "0         NaN         NaN    False  \n",
       "1         NaN         NaN    False  \n",
       "2         NaN         NaN    False  \n",
       "3         NaN         NaN    False  \n",
       "4         NaN         NaN     True  "
      ]
     },
     "execution_count": 8,
     "metadata": {},
     "output_type": "execute_result"
    }
   ],
   "source": [
    "df_space = pd.read_csv('./data/entity_datasets/world_place.csv')\n",
    "df_space.head()"
   ]
  },
  {
   "cell_type": "code",
   "execution_count": 9,
   "metadata": {},
   "outputs": [],
   "source": [
    "df_train = df_train.drop(['Unnamed: 0'], axis=1)\n",
    "df_test = df_test.drop(['Unnamed: 0'], axis=1)\n",
    "df_train['is_test'] = False\n",
    "df_test['is_test'] = True"
   ]
  },
  {
   "cell_type": "code",
   "execution_count": 15,
   "metadata": {},
   "outputs": [
    {
     "name": "stdout",
     "output_type": "stream",
     "text": [
      "True\n"
     ]
    },
    {
     "name": "stderr",
     "output_type": "stream",
     "text": [
      "/Users/tianyuhan/.local/lib/python3.7/site-packages/ipykernel_launcher.py:4: SettingWithCopyWarning: \n",
      "A value is trying to be set on a copy of a slice from a DataFrame.\n",
      "Try using .loc[row_indexer,col_indexer] = value instead\n",
      "\n",
      "See the caveats in the documentation: https://pandas.pydata.org/pandas-docs/stable/user_guide/indexing.html#returning-a-view-versus-a-copy\n",
      "  after removing the cwd from sys.path.\n",
      "/Users/tianyuhan/.local/lib/python3.7/site-packages/ipykernel_launcher.py:5: SettingWithCopyWarning: \n",
      "A value is trying to be set on a copy of a slice from a DataFrame.\n",
      "Try using .loc[row_indexer,col_indexer] = value instead\n",
      "\n",
      "See the caveats in the documentation: https://pandas.pydata.org/pandas-docs/stable/user_guide/indexing.html#returning-a-view-versus-a-copy\n",
      "  \"\"\"\n"
     ]
    },
    {
     "data": {
      "text/plain": [
       "(107943, 36124)"
      ]
     },
     "execution_count": 15,
     "metadata": {},
     "output_type": "execute_result"
    },
    {
     "data": {
      "text/html": [
       "<div>\n",
       "<style scoped>\n",
       "    .dataframe tbody tr th:only-of-type {\n",
       "        vertical-align: middle;\n",
       "    }\n",
       "\n",
       "    .dataframe tbody tr th {\n",
       "        vertical-align: top;\n",
       "    }\n",
       "\n",
       "    .dataframe thead th {\n",
       "        text-align: right;\n",
       "    }\n",
       "</style>\n",
       "<table border=\"1\" class=\"dataframe\">\n",
       "  <thead>\n",
       "    <tr style=\"text-align: right;\">\n",
       "      <th></th>\n",
       "      <th>drugName</th>\n",
       "      <th>condition</th>\n",
       "      <th>review</th>\n",
       "      <th>rating</th>\n",
       "      <th>date</th>\n",
       "      <th>usefulCount</th>\n",
       "      <th>is_test</th>\n",
       "      <th>cat</th>\n",
       "    </tr>\n",
       "  </thead>\n",
       "  <tbody>\n",
       "    <tr>\n",
       "      <th>1</th>\n",
       "      <td>Guanfacine</td>\n",
       "      <td>ADHD</td>\n",
       "      <td>\"My son is halfway through his fourth week of ...</td>\n",
       "      <td>8.0</td>\n",
       "      <td>April 27, 2010</td>\n",
       "      <td>192</td>\n",
       "      <td>False</td>\n",
       "      <td>0</td>\n",
       "    </tr>\n",
       "    <tr>\n",
       "      <th>2</th>\n",
       "      <td>Lybrel</td>\n",
       "      <td>Birth Control</td>\n",
       "      <td>\"I used to take another oral contraceptive, wh...</td>\n",
       "      <td>5.0</td>\n",
       "      <td>December 14, 2009</td>\n",
       "      <td>17</td>\n",
       "      <td>False</td>\n",
       "      <td>6</td>\n",
       "    </tr>\n",
       "    <tr>\n",
       "      <th>3</th>\n",
       "      <td>Ortho Evra</td>\n",
       "      <td>Birth Control</td>\n",
       "      <td>\"This is my first time using any form of birth...</td>\n",
       "      <td>8.0</td>\n",
       "      <td>November 3, 2015</td>\n",
       "      <td>10</td>\n",
       "      <td>False</td>\n",
       "      <td>6</td>\n",
       "    </tr>\n",
       "    <tr>\n",
       "      <th>4</th>\n",
       "      <td>Buprenorphine / naloxone</td>\n",
       "      <td>Opiate Dependence</td>\n",
       "      <td>\"Suboxone has completely turned my life around...</td>\n",
       "      <td>9.0</td>\n",
       "      <td>November 27, 2016</td>\n",
       "      <td>37</td>\n",
       "      <td>False</td>\n",
       "      <td>21</td>\n",
       "    </tr>\n",
       "    <tr>\n",
       "      <th>6</th>\n",
       "      <td>Levonorgestrel</td>\n",
       "      <td>Emergency Contraception</td>\n",
       "      <td>\"He pulled out, but he cummed a bit in me. I t...</td>\n",
       "      <td>1.0</td>\n",
       "      <td>March 7, 2017</td>\n",
       "      <td>5</td>\n",
       "      <td>False</td>\n",
       "      <td>12</td>\n",
       "    </tr>\n",
       "  </tbody>\n",
       "</table>\n",
       "</div>"
      ],
      "text/plain": [
       "                   drugName                condition  \\\n",
       "1                Guanfacine                     ADHD   \n",
       "2                    Lybrel            Birth Control   \n",
       "3                Ortho Evra            Birth Control   \n",
       "4  Buprenorphine / naloxone        Opiate Dependence   \n",
       "6            Levonorgestrel  Emergency Contraception   \n",
       "\n",
       "                                              review  rating  \\\n",
       "1  \"My son is halfway through his fourth week of ...     8.0   \n",
       "2  \"I used to take another oral contraceptive, wh...     5.0   \n",
       "3  \"This is my first time using any form of birth...     8.0   \n",
       "4  \"Suboxone has completely turned my life around...     9.0   \n",
       "6  \"He pulled out, but he cummed a bit in me. I t...     1.0   \n",
       "\n",
       "                date  usefulCount  is_test  cat  \n",
       "1     April 27, 2010          192    False    0  \n",
       "2  December 14, 2009           17    False    6  \n",
       "3   November 3, 2015           10    False    6  \n",
       "4  November 27, 2016           37    False   21  \n",
       "6      March 7, 2017            5    False   12  "
      ]
     },
     "execution_count": 15,
     "metadata": {},
     "output_type": "execute_result"
    }
   ],
   "source": [
    "top_30_classes = df_test['condition'].value_counts().nlargest(30).index.tolist()\n",
    "df_train_filtered = df_train[df_train['condition'].isin(top_30_classes)]\n",
    "df_test_filtered = df_test[df_test['condition'].isin(top_30_classes)]\n",
    "df_train_filtered['cat'] = df_train_filtered['condition'].astype('category').cat.codes\n",
    "df_test_filtered['cat'] = df_test_filtered['condition'].astype('category').cat.codes\n",
    "mapping_dict = dict(enumerate(df_test_filtered['condition'].astype('category').cat.categories))\n",
    "mapping_dict_ = dict(enumerate(df_train_filtered['condition'].astype('category').cat.categories))\n",
    "\n",
    "print(mapping_dict == mapping_dict_)\n",
    "len(df_train_filtered), len(df_test_filtered)\n",
    "df_train_filtered.head()"
   ]
  },
  {
   "cell_type": "code",
   "execution_count": 16,
   "metadata": {},
   "outputs": [
    {
     "data": {
      "text/plain": [
       "144067"
      ]
     },
     "execution_count": 16,
     "metadata": {},
     "output_type": "execute_result"
    }
   ],
   "source": [
    "df = pd.concat([df_train_filtered, df_test_filtered])\n",
    "len(df)"
   ]
  },
  {
   "cell_type": "code",
   "execution_count": 17,
   "metadata": {},
   "outputs": [],
   "source": [
    "df.to_csv('./data/entity_datasets/drug.csv', index=False)"
   ]
  },
  {
   "cell_type": "code",
   "execution_count": 18,
   "metadata": {},
   "outputs": [
    {
     "data": {
      "text/plain": [
       "['Birth Control',\n",
       " 'Depression',\n",
       " 'Pain',\n",
       " 'Anxiety',\n",
       " 'Acne',\n",
       " 'Bipolar Disorde',\n",
       " 'Weight Loss',\n",
       " 'Insomnia',\n",
       " 'Obesity',\n",
       " 'ADHD',\n",
       " 'Emergency Contraception',\n",
       " 'Vaginal Yeast Infection',\n",
       " 'Diabetes, Type 2',\n",
       " 'High Blood Pressure',\n",
       " 'Smoking Cessation',\n",
       " 'Abnormal Uterine Bleeding',\n",
       " 'Bowel Preparation',\n",
       " 'Migraine',\n",
       " 'ibromyalgia',\n",
       " 'Anxiety and Stress',\n",
       " 'Constipation',\n",
       " 'Major Depressive Disorde',\n",
       " 'Chronic Pain',\n",
       " 'Panic Disorde',\n",
       " 'Migraine Prevention',\n",
       " 'Urinary Tract Infection',\n",
       " 'Opiate Dependence',\n",
       " 'Osteoarthritis',\n",
       " 'Muscle Spasm',\n",
       " 'Erectile Dysfunction']"
      ]
     },
     "execution_count": 18,
     "metadata": {},
     "output_type": "execute_result"
    }
   ],
   "source": [
    "top_30_classes"
   ]
  },
  {
   "cell_type": "code",
   "execution_count": 9,
   "metadata": {},
   "outputs": [
    {
     "data": {
      "text/html": [
       "<div>\n",
       "<style scoped>\n",
       "    .dataframe tbody tr th:only-of-type {\n",
       "        vertical-align: middle;\n",
       "    }\n",
       "\n",
       "    .dataframe tbody tr th {\n",
       "        vertical-align: top;\n",
       "    }\n",
       "\n",
       "    .dataframe thead th {\n",
       "        text-align: right;\n",
       "    }\n",
       "</style>\n",
       "<table border=\"1\" class=\"dataframe\">\n",
       "  <thead>\n",
       "    <tr style=\"text-align: right;\">\n",
       "      <th></th>\n",
       "      <th>projection</th>\n",
       "      <th>is_test</th>\n",
       "    </tr>\n",
       "  </thead>\n",
       "  <tbody>\n",
       "    <tr>\n",
       "      <th>0</th>\n",
       "      <td>0</td>\n",
       "      <td>False</td>\n",
       "    </tr>\n",
       "    <tr>\n",
       "      <th>1</th>\n",
       "      <td>6</td>\n",
       "      <td>False</td>\n",
       "    </tr>\n",
       "    <tr>\n",
       "      <th>2</th>\n",
       "      <td>6</td>\n",
       "      <td>False</td>\n",
       "    </tr>\n",
       "    <tr>\n",
       "      <th>3</th>\n",
       "      <td>21</td>\n",
       "      <td>False</td>\n",
       "    </tr>\n",
       "    <tr>\n",
       "      <th>4</th>\n",
       "      <td>6</td>\n",
       "      <td>False</td>\n",
       "    </tr>\n",
       "  </tbody>\n",
       "</table>\n",
       "</div>"
      ],
      "text/plain": [
       "   projection  is_test\n",
       "0           0    False\n",
       "1           6    False\n",
       "2           6    False\n",
       "3          21    False\n",
       "4           6    False"
      ]
     },
     "execution_count": 9,
     "metadata": {},
     "output_type": "execute_result"
    }
   ],
   "source": [
    "path = '/home/than/DeepLearning/world-models/results/tuned/Llama-2-70b-hf/drug/condition/probes/lsq_train.none.none.last.condition.p'\n",
    "probe_results = pickle.load(open(path, 'rb'))\n",
    "df = probe_results['projections']\n",
    "df[70].head()"
   ]
  }
 ],
 "metadata": {
  "kernelspec": {
   "display_name": "torch",
   "language": "python",
   "name": "python3"
  },
  "language_info": {
   "codemirror_mode": {
    "name": "ipython",
    "version": 3
   },
   "file_extension": ".py",
   "mimetype": "text/x-python",
   "name": "python",
   "nbconvert_exporter": "python",
   "pygments_lexer": "ipython3",
   "version": "3.9.17"
  }
 },
 "nbformat": 4,
 "nbformat_minor": 2
}
